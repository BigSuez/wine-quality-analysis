{
 "cells": [
  {
   "cell_type": "code",
   "execution_count": 1,
   "metadata": {},
   "outputs": [],
   "source": [
    "#Imports\n",
    "import pandas as pd\n",
    "import sklearn as skl\n",
    "from sklearn.model_selection import train_test_split\n",
    "import tensorflow as tf"
   ]
  },
  {
   "cell_type": "code",
   "execution_count": 2,
   "metadata": {},
   "outputs": [],
   "source": [
    "#Read in Data\n",
    "red_df = pd.read_csv('Resources/winequality-red.csv', delimiter=';')\n",
    "white_df = pd.read_csv('Resources/winequality-white.csv', delimiter=';')"
   ]
  },
  {
   "cell_type": "code",
   "execution_count": 20,
   "metadata": {},
   "outputs": [],
   "source": [
    "def TestModel(features_to_test):\n",
    "    #Splitting\n",
    "    target_red = pd.get_dummies(red_df['quality'])\n",
    "    features_red = red_df[features_to_test]\n",
    "\n",
    "    target_white = pd.get_dummies(white_df['quality'])\n",
    "    features_white = white_df[features_to_test]\n",
    "\n",
    "    X_train_red, X_test_red, y_train_red, y_test_red = train_test_split(features_red, target_red, random_state=42)\n",
    "    X_train_white, X_test_white, y_train_white, y_test_white = train_test_split(features_white, target_white, random_state=42)\n",
    "\n",
    "    #Scaling\n",
    "    X_scaler_red = skl.preprocessing.StandardScaler()\n",
    "    X_scaler_white = skl.preprocessing.StandardScaler()\n",
    "\n",
    "    X_scaler_red.fit(X_train_red)\n",
    "    X_scaler_white.fit(X_train_white)\n",
    "\n",
    "    X_train_scaled_red = X_scaler_red.transform(X_train_red)\n",
    "    X_test_scaled_red = X_scaler_red.transform(X_test_red)\n",
    "\n",
    "    X_train_scaled_white = X_scaler_white.transform(X_train_white)\n",
    "    X_test_scaled_white = X_scaler_white.transform(X_test_white)\n",
    "\n",
    "    inputs = len(features_to_test)\n",
    "\n",
    "    #Create and Evaluate Red Model\n",
    "    model_red = tf.keras.models.Sequential()\n",
    "    model_red.add(tf.keras.layers.Dense(units=6, activation='relu', input_dim=inputs))\n",
    "    model_red.add(tf.keras.layers.Dense(units=6, activation='relu'))\n",
    "    model_red.add(tf.keras.layers.Dense(units=6, activation='relu'))\n",
    "    model_red.add(tf.keras.layers.Dense(len(set(red_df['quality'].values)), activation = 'softmax'))\n",
    "    model_red.compile(loss='categorical_crossentropy', optimizer='adam', metrics=['accuracy'])\n",
    "    fit_model_red = model_red.fit(X_train_scaled_red, y_train_red, epochs=30)\n",
    "    model_red_loss, model_red_accuracy = model_red.evaluate(X_test_scaled_red, y_test_red, verbose=2)\n",
    "    \"\"\"\n",
    "    #Create and Evaluate White Model\n",
    "    model_white = tf.keras.models.Sequential()\n",
    "    model_white.add(tf.keras.layers.Dense(units=10, activation='relu', input_dim=inputs))\n",
    "    #model_white.add(tf.keras.layers.Dense(units=4, activation='relu'))\n",
    "    model_white.add(tf.keras.layers.Dense(len(set(white_df['quality'].values)), activation = 'softmax'))\n",
    "    model_white.compile(loss='categorical_crossentropy', optimizer='adam', metrics=['accuracy'])\n",
    "    fit_model_white = model_white.fit(X_train_scaled_white, y_train_white, epochs=25)\n",
    "    model_white_loss, model_white_accuracy = model_white.evaluate(X_test_scaled_white, y_test_white, verbose=2)\n",
    "   \n",
    "    return({'Red_Loss':model_red_loss, 'Red_Acc':model_red_accuracy, \n",
    "            'White_Loss':model_white_loss, 'White_Acc':model_white_accuracy})\n",
    "             \"\"\"\n",
    "    return({'Red_Loss':model_red_loss, 'Red_Acc':model_red_accuracy})"
   ]
  },
  {
   "cell_type": "code",
   "execution_count": 17,
   "metadata": {},
   "outputs": [
    {
     "data": {
      "text/plain": [
       "Index(['fixed acidity', 'volatile acidity', 'citric acid', 'residual sugar',\n",
       "       'chlorides', 'free sulfur dioxide', 'total sulfur dioxide', 'density',\n",
       "       'pH', 'sulphates', 'alcohol', 'quality'],\n",
       "      dtype='object')"
      ]
     },
     "execution_count": 17,
     "metadata": {},
     "output_type": "execute_result"
    }
   ],
   "source": [
    "red_df.columns"
   ]
  },
  {
   "cell_type": "code",
   "execution_count": 22,
   "metadata": {},
   "outputs": [
    {
     "name": "stdout",
     "output_type": "stream",
     "text": [
      "Epoch 1/30\n",
      "38/38 [==============================] - 4s 5ms/step - loss: 1.7707 - accuracy: 0.2944\n",
      "Epoch 2/30\n",
      "38/38 [==============================] - 0s 7ms/step - loss: 1.6060 - accuracy: 0.4470\n",
      "Epoch 3/30\n",
      "38/38 [==============================] - 0s 5ms/step - loss: 1.4517 - accuracy: 0.5038\n",
      "Epoch 4/30\n",
      "38/38 [==============================] - 0s 6ms/step - loss: 1.3126 - accuracy: 0.5296\n",
      "Epoch 5/30\n",
      "38/38 [==============================] - 0s 9ms/step - loss: 1.2094 - accuracy: 0.5405\n",
      "Epoch 6/30\n",
      "38/38 [==============================] - 0s 6ms/step - loss: 1.1441 - accuracy: 0.5471\n",
      "Epoch 7/30\n",
      "38/38 [==============================] - 0s 8ms/step - loss: 1.1063 - accuracy: 0.5521\n",
      "Epoch 8/30\n",
      "38/38 [==============================] - 0s 5ms/step - loss: 1.0813 - accuracy: 0.5521\n",
      "Epoch 9/30\n",
      "38/38 [==============================] - 0s 6ms/step - loss: 1.0637 - accuracy: 0.5571\n",
      "Epoch 10/30\n",
      "38/38 [==============================] - 0s 6ms/step - loss: 1.0507 - accuracy: 0.5646\n",
      "Epoch 11/30\n",
      "38/38 [==============================] - 0s 6ms/step - loss: 1.0407 - accuracy: 0.5646\n",
      "Epoch 12/30\n",
      "38/38 [==============================] - 0s 8ms/step - loss: 1.0315 - accuracy: 0.5746\n",
      "Epoch 13/30\n",
      "38/38 [==============================] - 0s 6ms/step - loss: 1.0234 - accuracy: 0.5838\n",
      "Epoch 14/30\n",
      "38/38 [==============================] - 0s 7ms/step - loss: 1.0172 - accuracy: 0.5880\n",
      "Epoch 15/30\n",
      "38/38 [==============================] - 0s 6ms/step - loss: 1.0111 - accuracy: 0.5938\n",
      "Epoch 16/30\n",
      "38/38 [==============================] - 0s 11ms/step - loss: 1.0059 - accuracy: 0.5972\n",
      "Epoch 17/30\n",
      "38/38 [==============================] - 0s 6ms/step - loss: 1.0012 - accuracy: 0.5980\n",
      "Epoch 18/30\n",
      "38/38 [==============================] - 0s 5ms/step - loss: 0.9970 - accuracy: 0.6030\n",
      "Epoch 19/30\n",
      "38/38 [==============================] - 0s 7ms/step - loss: 0.9926 - accuracy: 0.5988\n",
      "Epoch 20/30\n",
      "38/38 [==============================] - 0s 7ms/step - loss: 0.9890 - accuracy: 0.6055\n",
      "Epoch 21/30\n",
      "38/38 [==============================] - 0s 8ms/step - loss: 0.9848 - accuracy: 0.6038\n",
      "Epoch 22/30\n",
      "38/38 [==============================] - 0s 8ms/step - loss: 0.9817 - accuracy: 0.6063\n",
      "Epoch 23/30\n",
      "38/38 [==============================] - 0s 6ms/step - loss: 0.9786 - accuracy: 0.6013\n",
      "Epoch 24/30\n",
      "38/38 [==============================] - 0s 7ms/step - loss: 0.9752 - accuracy: 0.6013\n",
      "Epoch 25/30\n",
      "38/38 [==============================] - 0s 7ms/step - loss: 0.9707 - accuracy: 0.6063\n",
      "Epoch 26/30\n",
      "38/38 [==============================] - 1s 19ms/step - loss: 0.9678 - accuracy: 0.6080\n",
      "Epoch 27/30\n",
      "38/38 [==============================] - 1s 15ms/step - loss: 0.9648 - accuracy: 0.6097\n",
      "Epoch 28/30\n",
      "38/38 [==============================] - 0s 10ms/step - loss: 0.9611 - accuracy: 0.6097\n",
      "Epoch 29/30\n",
      "38/38 [==============================] - 0s 9ms/step - loss: 0.9579 - accuracy: 0.6122\n",
      "Epoch 30/30\n",
      "38/38 [==============================] - 0s 7ms/step - loss: 0.9555 - accuracy: 0.6113\n",
      "13/13 - 0s - loss: 0.9847 - accuracy: 0.5600 - 321ms/epoch - 25ms/step\n",
      "{'Red_Loss': 0.9847161769866943, 'Red_Acc': 0.5600000023841858}\n"
     ]
    }
   ],
   "source": [
    "cols = red_df.drop(['quality', 'fixed acidity', 'volatile acidity', 'citric acid'], axis=1).columns\n",
    "print(TestModel(cols))"
   ]
  }
 ],
 "metadata": {
  "kernelspec": {
   "display_name": "base",
   "language": "python",
   "name": "python3"
  },
  "language_info": {
   "codemirror_mode": {
    "name": "ipython",
    "version": 3
   },
   "file_extension": ".py",
   "mimetype": "text/x-python",
   "name": "python",
   "nbconvert_exporter": "python",
   "pygments_lexer": "ipython3",
   "version": "3.9.13"
  },
  "orig_nbformat": 4
 },
 "nbformat": 4,
 "nbformat_minor": 2
}
