{
 "cells": [
  {
   "cell_type": "code",
   "execution_count": 6,
   "metadata": {},
   "outputs": [],
   "source": [
    "#Imports\n",
    "import pandas as pd\n",
    "import sklearn as skl\n",
    "from sklearn.model_selection import train_test_split\n",
    "from sklearn.ensemble import RandomForestClassifier"
   ]
  },
  {
   "cell_type": "code",
   "execution_count": 7,
   "metadata": {},
   "outputs": [],
   "source": [
    "#Read in Data\n",
    "red_df = pd.read_csv('../Resources/winequality-red.csv', delimiter=';')\n",
    "white_df = pd.read_csv('../Resources/winequality-white.csv', delimiter=';')"
   ]
  },
  {
   "cell_type": "code",
   "execution_count": 8,
   "metadata": {},
   "outputs": [],
   "source": [
    "def TestModel(features_to_test):\n",
    "    #Splitting\n",
    "    target_red = pd.get_dummies(red_df['quality'])\n",
    "    features_red = red_df[features_to_test]\n",
    "\n",
    "    target_white = pd.get_dummies(white_df['quality'])\n",
    "    features_white = white_df[features_to_test]\n",
    "\n",
    "    X_train_red, X_test_red, y_train_red, y_test_red = train_test_split(features_red, target_red, random_state=42)\n",
    "    \n",
    "    X_train_white, X_test_white, y_train_white, y_test_white = train_test_split(features_white, target_white, random_state=42)\n",
    "\n",
    "\n",
    "    #Scaling\n",
    "    X_scaler_red = skl.preprocessing.StandardScaler()\n",
    "    X_scaler_white = skl.preprocessing.StandardScaler()\n",
    "\n",
    "    X_scaler_red.fit(X_train_red)\n",
    "    X_scaler_white.fit(X_train_white)\n",
    "\n",
    "    X_train_scaled_red = X_scaler_red.transform(X_train_red)\n",
    "    X_test_scaled_red = X_scaler_red.transform(X_test_red)\n",
    "\n",
    "    X_train_scaled_white = X_scaler_white.transform(X_train_white)\n",
    "    X_test_scaled_white = X_scaler_white.transform(X_test_white)\n",
    "\n",
    "    \n",
    "    #Create and Evaluate Red Model\n",
    "    model_red = RandomForestClassifier(n_estimators=50)\n",
    "    \n",
    "    model_red.fit(X_train_scaled_red, y_train_red)\n",
    "    model_accuracy_red = model_red.score(X_test_scaled_red, y_test_red)\n",
    "\n",
    "    #Create and Evaluate White Model\n",
    "    model_white = RandomForestClassifier(n_estimators=50)\n",
    "    \n",
    "    model_white.fit(X_train_scaled_white, y_train_white)\n",
    "    model_accuracy_white = model_white.score(X_test_scaled_white, y_test_white)\n",
    "\n",
    "    return({'Red_Acc':model_accuracy_red, 'White_Acc':model_accuracy_white})\n",
    "    "
   ]
  },
  {
   "cell_type": "code",
   "execution_count": 9,
   "metadata": {},
   "outputs": [],
   "source": [
    "feature_results = []\n",
    "missing_feature_results = []"
   ]
  },
  {
   "cell_type": "code",
   "execution_count": 10,
   "metadata": {},
   "outputs": [],
   "source": [
    "#Test Single Features\n",
    "cols = red_df.drop(columns='quality').columns\n",
    "results = []\n",
    "for feature in cols:\n",
    "    result = TestModel([feature])\n",
    "    results.append({'feature':feature, 'result':result})\n",
    "feature_results.append({'single_features':results})"
   ]
  },
  {
   "cell_type": "code",
   "execution_count": 11,
   "metadata": {},
   "outputs": [],
   "source": [
    "#Test Double Features\n",
    "cols = red_df.drop(columns='quality').columns\n",
    "results = []\n",
    "for feature_a in cols:\n",
    "    for feature_b in cols:\n",
    "        result = TestModel([feature_a, feature_b])\n",
    "        results.append({'features': f'{feature_a} & {feature_b}', 'result':result})\n",
    "feature_results.append({'double_features':results})"
   ]
  },
  {
   "cell_type": "code",
   "execution_count": 12,
   "metadata": {},
   "outputs": [],
   "source": [
    "#Test Single Missing Features\n",
    "cols = red_df.drop(columns='quality').columns\n",
    "results = []\n",
    "for feature in cols:\n",
    "    feature_list = list(cols)\n",
    "    feature_list.remove(feature)\n",
    "    result = TestModel(feature_list)\n",
    "    results.append({'feature':feature, 'result':result})\n",
    "missing_feature_results.append({'single_features':results})"
   ]
  },
  {
   "cell_type": "code",
   "execution_count": 13,
   "metadata": {},
   "outputs": [],
   "source": [
    "#Test Double Missing Features\n",
    "cols = red_df.drop(columns='quality').columns\n",
    "results = []\n",
    "for feature_a in cols:\n",
    "    for feature_b in cols:\n",
    "        if feature_a != feature_b:\n",
    "            feature_list = list(cols)\n",
    "            feature_list.remove(feature_a)\n",
    "            feature_list.remove(feature_b)\n",
    "            result = TestModel(feature_list)\n",
    "            results.append({'features': f'{feature_a} & {feature_b}', 'result':result})\n",
    "missing_feature_results.append({'double_features':results})"
   ]
  },
  {
   "cell_type": "code",
   "execution_count": 15,
   "metadata": {},
   "outputs": [],
   "source": [
    "import json\n",
    "with open('Outputs/feature_results.json', 'w', encoding='utf-8') as f:\n",
    "    json.dump(feature_results, f, ensure_ascii=False, indent=4)\n",
    "with open('Outputs/missing_feature_results.json', 'w', encoding='utf-8') as f:\n",
    "    json.dump(missing_feature_results, f, ensure_ascii=False, indent=4)"
   ]
  }
 ],
 "metadata": {
  "kernelspec": {
   "display_name": "base",
   "language": "python",
   "name": "python3"
  },
  "language_info": {
   "codemirror_mode": {
    "name": "ipython",
    "version": 3
   },
   "file_extension": ".py",
   "mimetype": "text/x-python",
   "name": "python",
   "nbconvert_exporter": "python",
   "pygments_lexer": "ipython3",
   "version": "3.9.13"
  },
  "orig_nbformat": 4
 },
 "nbformat": 4,
 "nbformat_minor": 2
}
