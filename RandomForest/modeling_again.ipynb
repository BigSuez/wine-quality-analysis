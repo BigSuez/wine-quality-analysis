{
 "cells": [
  {
   "cell_type": "markdown",
   "metadata": {},
   "source": [
    "# Imports, Splitting, Scaling"
   ]
  },
  {
   "cell_type": "code",
   "execution_count": 66,
   "metadata": {},
   "outputs": [],
   "source": [
    "#Imports\n",
    "import pandas as pd\n",
    "import sklearn as skl\n",
    "from sklearn.model_selection import train_test_split"
   ]
  },
  {
   "cell_type": "code",
   "execution_count": 67,
   "metadata": {},
   "outputs": [],
   "source": [
    "#Read in Data\n",
    "red_df = pd.read_csv('../Resources/winequality-red.csv', delimiter=';')\n",
    "white_df = pd.read_csv('../Resources/winequality-white.csv', delimiter=';')"
   ]
  },
  {
   "cell_type": "code",
   "execution_count": 68,
   "metadata": {},
   "outputs": [],
   "source": [
    "#Splitting\n",
    "target_red = red_df['quality']\n",
    "features_red = red_df.drop(columns='quality')\n",
    "\n",
    "target_white = pd.get_dummies(white_df['quality'])\n",
    "features_white = white_df.drop(columns='quality')\n",
    "\n",
    "X_train_red, X_test_red, y_train_red, y_test_red = train_test_split(features_red, target_red, random_state=42)\n",
    "    \n",
    "X_train_white, X_test_white, y_train_white, y_test_white = train_test_split(features_white, target_white, random_state=42)"
   ]
  },
  {
   "cell_type": "code",
   "execution_count": 69,
   "metadata": {},
   "outputs": [],
   "source": [
    "#Scaling\n",
    "X_scaler_red = skl.preprocessing.StandardScaler()\n",
    "X_scaler_white = skl.preprocessing.StandardScaler()\n",
    "\n",
    "X_scaler_red.fit(X_train_red)\n",
    "X_scaler_white.fit(X_train_white)\n",
    "\n",
    "X_train_scaled_red = X_scaler_red.transform(X_train_red)\n",
    "X_test_scaled_red = X_scaler_red.transform(X_test_red)\n",
    "\n",
    "X_train_scaled_white = X_scaler_white.transform(X_train_white)\n",
    "X_test_scaled_white = X_scaler_white.transform(X_test_white)"
   ]
  },
  {
   "cell_type": "markdown",
   "metadata": {},
   "source": [
    "# Model Testing"
   ]
  },
  {
   "cell_type": "markdown",
   "metadata": {},
   "source": [
    "## Logistic Regression\n",
    "- Train: .61\n",
    "- Test: .58"
   ]
  },
  {
   "cell_type": "code",
   "execution_count": 70,
   "metadata": {},
   "outputs": [
    {
     "name": "stdout",
     "output_type": "stream",
     "text": [
      "Training Data Score: 0.6138448707256047\n",
      "Testing Data Score: 0.5875\n",
      "              precision    recall  f1-score   support\n",
      "\n",
      "           3       0.00      0.00      0.00         1\n",
      "           4       1.00      0.08      0.14        13\n",
      "           5       0.63      0.74      0.68       164\n",
      "           6       0.56      0.59      0.57       169\n",
      "           7       0.43      0.27      0.33        48\n",
      "           8       0.00      0.00      0.00         5\n",
      "\n",
      "    accuracy                           0.59       400\n",
      "   macro avg       0.44      0.28      0.29       400\n",
      "weighted avg       0.58      0.59      0.57       400\n",
      "\n"
     ]
    },
    {
     "name": "stderr",
     "output_type": "stream",
     "text": [
      "c:\\Users\\Bryson\\anaconda3\\lib\\site-packages\\sklearn\\metrics\\_classification.py:1318: UndefinedMetricWarning: Precision and F-score are ill-defined and being set to 0.0 in labels with no predicted samples. Use `zero_division` parameter to control this behavior.\n",
      "  _warn_prf(average, modifier, msg_start, len(result))\n",
      "c:\\Users\\Bryson\\anaconda3\\lib\\site-packages\\sklearn\\metrics\\_classification.py:1318: UndefinedMetricWarning: Precision and F-score are ill-defined and being set to 0.0 in labels with no predicted samples. Use `zero_division` parameter to control this behavior.\n",
      "  _warn_prf(average, modifier, msg_start, len(result))\n",
      "c:\\Users\\Bryson\\anaconda3\\lib\\site-packages\\sklearn\\metrics\\_classification.py:1318: UndefinedMetricWarning: Precision and F-score are ill-defined and being set to 0.0 in labels with no predicted samples. Use `zero_division` parameter to control this behavior.\n",
      "  _warn_prf(average, modifier, msg_start, len(result))\n"
     ]
    }
   ],
   "source": [
    "# LogisticRegression\n",
    "from sklearn.linear_model import LogisticRegression\n",
    "model = LogisticRegression(solver='lbfgs', random_state=1)\n",
    "model.fit(X_train_scaled_red, y_train_red)\n",
    "# Score the model\n",
    "print(f'Training Data Score: {model.score(X_train_scaled_red, y_train_red)}')\n",
    "print(f'Testing Data Score: {model.score(X_test_scaled_red, y_test_red)}')\n",
    "# Predict outcomes for test data set\n",
    "predicts = model.predict(X_test_scaled_red)\n",
    "# Calculate classification report\n",
    "from sklearn.metrics import classification_report\n",
    "predict = model.predict(X_test_scaled_red)\n",
    "print(classification_report(y_test_red, predict))"
   ]
  },
  {
   "cell_type": "markdown",
   "metadata": {},
   "source": [
    "## SVM - Linear Kernel\n",
    "- Train: .59\n",
    "- Test: .56"
   ]
  },
  {
   "cell_type": "code",
   "execution_count": 71,
   "metadata": {},
   "outputs": [
    {
     "name": "stdout",
     "output_type": "stream",
     "text": [
      "Training Data Score: 0.5904920767306089\n",
      "Testing Data Score: 0.565\n",
      "              precision    recall  f1-score   support\n",
      "\n",
      "           3       0.00      0.00      0.00         1\n",
      "           4       0.00      0.00      0.00        13\n",
      "           5       0.61      0.76      0.68       164\n",
      "           6       0.52      0.60      0.56       169\n",
      "           7       0.00      0.00      0.00        48\n",
      "           8       0.00      0.00      0.00         5\n",
      "\n",
      "    accuracy                           0.56       400\n",
      "   macro avg       0.19      0.23      0.21       400\n",
      "weighted avg       0.47      0.56      0.51       400\n",
      "\n"
     ]
    },
    {
     "name": "stderr",
     "output_type": "stream",
     "text": [
      "c:\\Users\\Bryson\\anaconda3\\lib\\site-packages\\sklearn\\metrics\\_classification.py:1318: UndefinedMetricWarning: Precision and F-score are ill-defined and being set to 0.0 in labels with no predicted samples. Use `zero_division` parameter to control this behavior.\n",
      "  _warn_prf(average, modifier, msg_start, len(result))\n",
      "c:\\Users\\Bryson\\anaconda3\\lib\\site-packages\\sklearn\\metrics\\_classification.py:1318: UndefinedMetricWarning: Precision and F-score are ill-defined and being set to 0.0 in labels with no predicted samples. Use `zero_division` parameter to control this behavior.\n",
      "  _warn_prf(average, modifier, msg_start, len(result))\n",
      "c:\\Users\\Bryson\\anaconda3\\lib\\site-packages\\sklearn\\metrics\\_classification.py:1318: UndefinedMetricWarning: Precision and F-score are ill-defined and being set to 0.0 in labels with no predicted samples. Use `zero_division` parameter to control this behavior.\n",
      "  _warn_prf(average, modifier, msg_start, len(result))\n"
     ]
    }
   ],
   "source": [
    "# SVM - Linear Kernel\n",
    "from sklearn.svm import SVC\n",
    "model = SVC(kernel='linear')\n",
    "model.fit(X_train_scaled_red, y_train_red)\n",
    "# Score the model\n",
    "print(f'Training Data Score: {model.score(X_train_scaled_red, y_train_red)}')\n",
    "print(f'Testing Data Score: {model.score(X_test_scaled_red, y_test_red)}')\n",
    "# Predict outcomes for test data set\n",
    "predicts = model.predict(X_test_scaled_red)\n",
    "# Calculate classification report\n",
    "from sklearn.metrics import classification_report\n",
    "predict = model.predict(X_test_scaled_red)\n",
    "print(classification_report(y_test_red, predict))"
   ]
  },
  {
   "cell_type": "markdown",
   "metadata": {},
   "source": [
    "## SVM - Poly Model\n",
    "- Train: .68\n",
    "- Test: .57"
   ]
  },
  {
   "cell_type": "code",
   "execution_count": 72,
   "metadata": {},
   "outputs": [
    {
     "name": "stderr",
     "output_type": "stream",
     "text": [
      "c:\\Users\\Bryson\\anaconda3\\lib\\site-packages\\sklearn\\metrics\\_classification.py:1318: UndefinedMetricWarning: Precision and F-score are ill-defined and being set to 0.0 in labels with no predicted samples. Use `zero_division` parameter to control this behavior.\n",
      "  _warn_prf(average, modifier, msg_start, len(result))\n"
     ]
    },
    {
     "name": "stdout",
     "output_type": "stream",
     "text": [
      "Training Data Score: 0.683069224353628\n",
      "Testing Data Score: 0.5775\n",
      "              precision    recall  f1-score   support\n",
      "\n",
      "           3       0.00      0.00      0.00         1\n",
      "           4       0.00      0.00      0.00        13\n",
      "           5       0.61      0.79      0.69       164\n",
      "           6       0.56      0.52      0.54       169\n",
      "           7       0.48      0.27      0.35        48\n",
      "           8       0.00      0.00      0.00         5\n",
      "\n",
      "    accuracy                           0.58       400\n",
      "   macro avg       0.27      0.26      0.26       400\n",
      "weighted avg       0.54      0.58      0.55       400\n",
      "\n"
     ]
    },
    {
     "name": "stderr",
     "output_type": "stream",
     "text": [
      "c:\\Users\\Bryson\\anaconda3\\lib\\site-packages\\sklearn\\metrics\\_classification.py:1318: UndefinedMetricWarning: Precision and F-score are ill-defined and being set to 0.0 in labels with no predicted samples. Use `zero_division` parameter to control this behavior.\n",
      "  _warn_prf(average, modifier, msg_start, len(result))\n",
      "c:\\Users\\Bryson\\anaconda3\\lib\\site-packages\\sklearn\\metrics\\_classification.py:1318: UndefinedMetricWarning: Precision and F-score are ill-defined and being set to 0.0 in labels with no predicted samples. Use `zero_division` parameter to control this behavior.\n",
      "  _warn_prf(average, modifier, msg_start, len(result))\n"
     ]
    }
   ],
   "source": [
    "# SVM - Poly Kernel\n",
    "from sklearn.svm import SVC\n",
    "model = SVC(kernel='poly')\n",
    "model.fit(X_train_scaled_red, y_train_red)\n",
    "# Score the model\n",
    "print(f'Training Data Score: {model.score(X_train_scaled_red, y_train_red)}')\n",
    "print(f'Testing Data Score: {model.score(X_test_scaled_red, y_test_red)}')\n",
    "# Predict outcomes for test data set\n",
    "predicts = model.predict(X_test_scaled_red)\n",
    "# Calculate classification report\n",
    "from sklearn.metrics import classification_report\n",
    "predict = model.predict(X_test_scaled_red)\n",
    "print(classification_report(y_test_red, predict))"
   ]
  },
  {
   "cell_type": "markdown",
   "metadata": {},
   "source": [
    "## SVM - rbf Model\n",
    "- Train: .67\n",
    "- Test: .62"
   ]
  },
  {
   "cell_type": "code",
   "execution_count": 73,
   "metadata": {},
   "outputs": [
    {
     "name": "stdout",
     "output_type": "stream",
     "text": [
      "Training Data Score: 0.6713928273561302\n",
      "Testing Data Score: 0.6275\n",
      "              precision    recall  f1-score   support\n",
      "\n",
      "           3       0.00      0.00      0.00         1\n",
      "           4       0.00      0.00      0.00        13\n",
      "           5       0.66      0.78      0.72       164\n",
      "           6       0.59      0.65      0.62       169\n",
      "           7       0.62      0.27      0.38        48\n",
      "           8       0.00      0.00      0.00         5\n",
      "\n",
      "    accuracy                           0.63       400\n",
      "   macro avg       0.31      0.28      0.29       400\n",
      "weighted avg       0.60      0.63      0.60       400\n",
      "\n"
     ]
    },
    {
     "name": "stderr",
     "output_type": "stream",
     "text": [
      "c:\\Users\\Bryson\\anaconda3\\lib\\site-packages\\sklearn\\metrics\\_classification.py:1318: UndefinedMetricWarning: Precision and F-score are ill-defined and being set to 0.0 in labels with no predicted samples. Use `zero_division` parameter to control this behavior.\n",
      "  _warn_prf(average, modifier, msg_start, len(result))\n",
      "c:\\Users\\Bryson\\anaconda3\\lib\\site-packages\\sklearn\\metrics\\_classification.py:1318: UndefinedMetricWarning: Precision and F-score are ill-defined and being set to 0.0 in labels with no predicted samples. Use `zero_division` parameter to control this behavior.\n",
      "  _warn_prf(average, modifier, msg_start, len(result))\n",
      "c:\\Users\\Bryson\\anaconda3\\lib\\site-packages\\sklearn\\metrics\\_classification.py:1318: UndefinedMetricWarning: Precision and F-score are ill-defined and being set to 0.0 in labels with no predicted samples. Use `zero_division` parameter to control this behavior.\n",
      "  _warn_prf(average, modifier, msg_start, len(result))\n"
     ]
    }
   ],
   "source": [
    "# SVM - rbf Kernel\n",
    "from sklearn.svm import SVC\n",
    "model = SVC(kernel='rbf')\n",
    "model.fit(X_train_scaled_red, y_train_red)\n",
    "# Score the model\n",
    "print(f'Training Data Score: {model.score(X_train_scaled_red, y_train_red)}')\n",
    "print(f'Testing Data Score: {model.score(X_test_scaled_red, y_test_red)}')\n",
    "# Predict outcomes for test data set\n",
    "predicts = model.predict(X_test_scaled_red)\n",
    "# Calculate classification report\n",
    "from sklearn.metrics import classification_report\n",
    "predict = model.predict(X_test_scaled_red)\n",
    "print(classification_report(y_test_red, predict))"
   ]
  },
  {
   "cell_type": "markdown",
   "metadata": {},
   "source": [
    "## Random Forest\n",
    "- Train: 1\n",
    "- Test: .67"
   ]
  },
  {
   "cell_type": "code",
   "execution_count": 131,
   "metadata": {},
   "outputs": [
    {
     "name": "stdout",
     "output_type": "stream",
     "text": [
      "Training Data Score: 1.0\n",
      "Testing Data Score: 0.66\n",
      "              precision    recall  f1-score   support\n",
      "\n",
      "           3       0.00      0.00      0.00         1\n",
      "           4       0.00      0.00      0.00        13\n",
      "           5       0.72      0.74      0.73       164\n",
      "           6       0.62      0.72      0.67       169\n",
      "           7       0.58      0.46      0.51        48\n",
      "           8       0.00      0.00      0.00         5\n",
      "\n",
      "    accuracy                           0.66       400\n",
      "   macro avg       0.32      0.32      0.32       400\n",
      "weighted avg       0.63      0.66      0.64       400\n",
      "\n"
     ]
    },
    {
     "name": "stderr",
     "output_type": "stream",
     "text": [
      "c:\\Users\\Bryson\\anaconda3\\lib\\site-packages\\sklearn\\metrics\\_classification.py:1318: UndefinedMetricWarning: Precision and F-score are ill-defined and being set to 0.0 in labels with no predicted samples. Use `zero_division` parameter to control this behavior.\n",
      "  _warn_prf(average, modifier, msg_start, len(result))\n",
      "c:\\Users\\Bryson\\anaconda3\\lib\\site-packages\\sklearn\\metrics\\_classification.py:1318: UndefinedMetricWarning: Precision and F-score are ill-defined and being set to 0.0 in labels with no predicted samples. Use `zero_division` parameter to control this behavior.\n",
      "  _warn_prf(average, modifier, msg_start, len(result))\n",
      "c:\\Users\\Bryson\\anaconda3\\lib\\site-packages\\sklearn\\metrics\\_classification.py:1318: UndefinedMetricWarning: Precision and F-score are ill-defined and being set to 0.0 in labels with no predicted samples. Use `zero_division` parameter to control this behavior.\n",
      "  _warn_prf(average, modifier, msg_start, len(result))\n"
     ]
    }
   ],
   "source": [
    "# Random Forest\n",
    "from sklearn.ensemble import RandomForestClassifier\n",
    "model = RandomForestClassifier(n_estimators=50)\n",
    "model.fit(X_train_scaled_red, y_train_red)\n",
    "# Score the model\n",
    "print(f'Training Data Score: {model.score(X_train_scaled_red, y_train_red)}')\n",
    "print(f'Testing Data Score: {model.score(X_test_scaled_red, y_test_red)}')\n",
    "# Predict outcomes for test data set\n",
    "predicts = model.predict(X_test_scaled_red)\n",
    "# Calculate classification report\n",
    "from sklearn.metrics import classification_report\n",
    "predict = model.predict(X_test_scaled_red)\n",
    "print(classification_report(y_test_red, predict))"
   ]
  },
  {
   "cell_type": "markdown",
   "metadata": {},
   "source": [
    "## Decision Tree\n",
    "- Train: 1\n",
    "- Test: .58"
   ]
  },
  {
   "cell_type": "code",
   "execution_count": 102,
   "metadata": {},
   "outputs": [
    {
     "name": "stdout",
     "output_type": "stream",
     "text": [
      "Training Data Score: 1.0\n",
      "Testing Data Score: 0.5875\n",
      "              precision    recall  f1-score   support\n",
      "\n",
      "           3       0.00      0.00      0.00         1\n",
      "           4       0.14      0.15      0.15        13\n",
      "           5       0.68      0.67      0.68       164\n",
      "           6       0.62      0.56      0.59       169\n",
      "           7       0.44      0.60      0.51        48\n",
      "           8       0.00      0.00      0.00         5\n",
      "\n",
      "    accuracy                           0.59       400\n",
      "   macro avg       0.31      0.33      0.32       400\n",
      "weighted avg       0.60      0.59      0.59       400\n",
      "\n"
     ]
    },
    {
     "name": "stderr",
     "output_type": "stream",
     "text": [
      "c:\\Users\\Bryson\\anaconda3\\lib\\site-packages\\sklearn\\metrics\\_classification.py:1318: UndefinedMetricWarning: Precision and F-score are ill-defined and being set to 0.0 in labels with no predicted samples. Use `zero_division` parameter to control this behavior.\n",
      "  _warn_prf(average, modifier, msg_start, len(result))\n",
      "c:\\Users\\Bryson\\anaconda3\\lib\\site-packages\\sklearn\\metrics\\_classification.py:1318: UndefinedMetricWarning: Precision and F-score are ill-defined and being set to 0.0 in labels with no predicted samples. Use `zero_division` parameter to control this behavior.\n",
      "  _warn_prf(average, modifier, msg_start, len(result))\n",
      "c:\\Users\\Bryson\\anaconda3\\lib\\site-packages\\sklearn\\metrics\\_classification.py:1318: UndefinedMetricWarning: Precision and F-score are ill-defined and being set to 0.0 in labels with no predicted samples. Use `zero_division` parameter to control this behavior.\n",
      "  _warn_prf(average, modifier, msg_start, len(result))\n"
     ]
    }
   ],
   "source": [
    "# Decision Trees\n",
    "from sklearn import tree\n",
    "model = tree.DecisionTreeClassifier()\n",
    "model.fit(X_train_scaled_red, y_train_red)\n",
    "# Score the model\n",
    "print(f'Training Data Score: {model.score(X_train_scaled_red, y_train_red)}')\n",
    "print(f'Testing Data Score: {model.score(X_test_scaled_red, y_test_red)}')\n",
    "# Predict outcomes for test data set\n",
    "predicts = model.predict(X_test_scaled_red)\n",
    "# Calculate classification report\n",
    "from sklearn.metrics import classification_report\n",
    "predict = model.predict(X_test_scaled_red)\n",
    "print(classification_report(y_test_red, predict))"
   ]
  }
 ],
 "metadata": {
  "kernelspec": {
   "display_name": "base",
   "language": "python",
   "name": "python3"
  },
  "language_info": {
   "codemirror_mode": {
    "name": "ipython",
    "version": 3
   },
   "file_extension": ".py",
   "mimetype": "text/x-python",
   "name": "python",
   "nbconvert_exporter": "python",
   "pygments_lexer": "ipython3",
   "version": "3.9.13"
  },
  "orig_nbformat": 4
 },
 "nbformat": 4,
 "nbformat_minor": 2
}
